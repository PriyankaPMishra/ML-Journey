{
  "nbformat": 4,
  "nbformat_minor": 0,
  "metadata": {
    "colab": {
      "provenance": []
    },
    "kernelspec": {
      "name": "python3",
      "display_name": "Python 3"
    },
    "language_info": {
      "name": "python"
    }
  },
  "cells": [
    {
      "cell_type": "code",
      "execution_count": 2,
      "metadata": {
        "id": "_KjKC189eAnI"
      },
      "outputs": [],
      "source": [
        "import numpy as np\n",
        "import math"
      ]
    },
    {
      "cell_type": "code",
      "source": [
        "y_pred = np.array([1,1,0,0,1])\n",
        "y_true = np.array([0.30, 0.7, 1, 0, 0.5])\n",
        "\n",
        "n = len(y_true)"
      ],
      "metadata": {
        "id": "7HN72Y1xy5QI"
      },
      "execution_count": 17,
      "outputs": []
    },
    {
      "cell_type": "markdown",
      "source": [
        "**MAE**"
      ],
      "metadata": {
        "id": "dhPB-KRs49Sz"
      }
    },
    {
      "cell_type": "code",
      "source": [
        "def mean_abs_error(y_true, y_pred):\n",
        "  abs_error = 0\n",
        "  for yt, yp in zip(y_true, y_pred):\n",
        "    abs_error += abs(yt - yp)\n",
        "  MAE = abs_error/n\n",
        "\n",
        "  print(\"ABSOLUTE ERROR: \", abs_error)\n",
        "  print(\"MEAN ABSOLUTE ERROR: \", MAE)"
      ],
      "metadata": {
        "id": "FUY3VR34yy-G"
      },
      "execution_count": 6,
      "outputs": []
    },
    {
      "cell_type": "code",
      "source": [
        "mean_abs_error(y_true, y_pred)\n",
        "\n",
        "#USING NUMPY\n",
        "mae = np.mean(np.abs(y_true - y_pred))\n",
        "mae"
      ],
      "metadata": {
        "colab": {
          "base_uri": "https://localhost:8080/"
        },
        "id": "I-8CZRnjz4Tx",
        "outputId": "fe45b522-83b5-4948-fafe-289781f5cc4d"
      },
      "execution_count": 8,
      "outputs": [
        {
          "output_type": "stream",
          "name": "stdout",
          "text": [
            "ABSOLUTE ERROR:  2.5\n",
            "MEAN ABSOLUTE ERROR:  0.5\n"
          ]
        },
        {
          "output_type": "execute_result",
          "data": {
            "text/plain": [
              "0.5"
            ]
          },
          "metadata": {},
          "execution_count": 8
        }
      ]
    },
    {
      "cell_type": "markdown",
      "source": [
        "**MSE**"
      ],
      "metadata": {
        "id": "7llsEYuP5B4Y"
      }
    },
    {
      "cell_type": "code",
      "source": [
        "def mean_squared_error(y_true, y_pred):\n",
        "  sq_error = 0\n",
        "  for yt, yp in zip(y_true, y_pred):\n",
        "    sq_error += (yt-yp)**2\n",
        "  MSE = sq_error/n\n",
        "\n",
        "  print(\"SQUARED ERROR: \", sq_error)\n",
        "  print(\"MEAN SQUARED ERROR: \", MSE)"
      ],
      "metadata": {
        "id": "-vdPrAMbzv1v"
      },
      "execution_count": 11,
      "outputs": []
    },
    {
      "cell_type": "code",
      "source": [
        "mean_squared_error(y_true, y_pred)\n",
        "\n",
        "#USING NUMPY\n",
        "mse = np.mean(np.square(y_true - y_pred))\n",
        "mse"
      ],
      "metadata": {
        "colab": {
          "base_uri": "https://localhost:8080/"
        },
        "id": "5iz2F7Pwz11i",
        "outputId": "eea6dda1-660b-4cb5-8e4b-f54f7b4efcda"
      },
      "execution_count": 12,
      "outputs": [
        {
          "output_type": "stream",
          "name": "stdout",
          "text": [
            "SQUARED ERROR:  1.83\n",
            "MEAN SQUARED ERROR:  0.366\n"
          ]
        },
        {
          "output_type": "execute_result",
          "data": {
            "text/plain": [
              "0.366"
            ]
          },
          "metadata": {},
          "execution_count": 12
        }
      ]
    },
    {
      "cell_type": "markdown",
      "source": [
        "**LOG LOSS/ BINARY CROSSENTROPY**"
      ],
      "metadata": {
        "id": "06BcBcj55EH2"
      }
    },
    {
      "cell_type": "code",
      "source": [
        "epsilon = 1e-15\n",
        "np.log([1e-15])"
      ],
      "metadata": {
        "colab": {
          "base_uri": "https://localhost:8080/"
        },
        "id": "0v44FlVR7KRc",
        "outputId": "3eaf1099-8056-4b28-e65f-54d7b89039a0"
      },
      "execution_count": 29,
      "outputs": [
        {
          "output_type": "execute_result",
          "data": {
            "text/plain": [
              "array([-34.53877639])"
            ]
          },
          "metadata": {},
          "execution_count": 29
        }
      ]
    },
    {
      "cell_type": "code",
      "source": [
        "1-epsilon"
      ],
      "metadata": {
        "colab": {
          "base_uri": "https://localhost:8080/"
        },
        "id": "4xBK3jb667uh",
        "outputId": "f38ba5e0-145c-45df-9693-115c66e0bee4"
      },
      "execution_count": 25,
      "outputs": [
        {
          "output_type": "execute_result",
          "data": {
            "text/plain": [
              "0.999999999999999"
            ]
          },
          "metadata": {},
          "execution_count": 25
        }
      ]
    },
    {
      "cell_type": "code",
      "source": [
        "#replace all 1s with value near to 1 but not 1, like 0.999999999999\n",
        "#replace all 0s with value near to 0 but not 0, like 0.000000000001\n",
        "\n",
        "y_pred_new = [max(i, epsilon) for i in y_pred]\n",
        "print(y_pred_new)"
      ],
      "metadata": {
        "colab": {
          "base_uri": "https://localhost:8080/"
        },
        "id": "13RQxzsW7NIS",
        "outputId": "7b818dd2-49e4-44d3-ea55-42a552e6760c"
      },
      "execution_count": 30,
      "outputs": [
        {
          "output_type": "stream",
          "name": "stdout",
          "text": [
            "[1, 1, 1e-15, 1e-15, 1]\n"
          ]
        }
      ]
    },
    {
      "cell_type": "code",
      "source": [
        "y_pred_new = [min(i, 1-epsilon) for i in y_pred_new]\n",
        "y_pred_new"
      ],
      "metadata": {
        "colab": {
          "base_uri": "https://localhost:8080/"
        },
        "id": "3HPpRf065qco",
        "outputId": "8754d619-a39a-4ce3-f059-3b1a6577d2d4"
      },
      "execution_count": 31,
      "outputs": [
        {
          "output_type": "execute_result",
          "data": {
            "text/plain": [
              "[0.999999999999999, 0.999999999999999, 1e-15, 1e-15, 0.999999999999999]"
            ]
          },
          "metadata": {},
          "execution_count": 31
        }
      ]
    },
    {
      "cell_type": "code",
      "source": [
        "y_pred_new = np.array(y_pred_new)"
      ],
      "metadata": {
        "id": "dT3ZjZ336XII"
      },
      "execution_count": 32,
      "outputs": []
    },
    {
      "cell_type": "code",
      "source": [
        "np.log(y_pred_new)"
      ],
      "metadata": {
        "colab": {
          "base_uri": "https://localhost:8080/"
        },
        "id": "37Le_d0Q7iR2",
        "outputId": "ba163f2f-7658-4e3a-a254-dc6ca2d51f52"
      },
      "execution_count": 33,
      "outputs": [
        {
          "output_type": "execute_result",
          "data": {
            "text/plain": [
              "array([-9.99200722e-16, -9.99200722e-16, -3.45387764e+01, -3.45387764e+01,\n",
              "       -9.99200722e-16])"
            ]
          },
          "metadata": {},
          "execution_count": 33
        }
      ]
    },
    {
      "cell_type": "code",
      "source": [
        "-np.mean(y_true*np.log(y_pred_new) + (1-y_true)*np.log(1-y_pred_new))"
      ],
      "metadata": {
        "colab": {
          "base_uri": "https://localhost:8080/"
        },
        "id": "6TsqjzyC7kkY",
        "outputId": "1cd896cd-0497-4fed-b637-94042846b27a"
      },
      "execution_count": 34,
      "outputs": [
        {
          "output_type": "execute_result",
          "data": {
            "text/plain": [
              "17.2696280766844"
            ]
          },
          "metadata": {},
          "execution_count": 34
        }
      ]
    },
    {
      "cell_type": "code",
      "source": [
        "def log_loss(y_true, y_predicted):\n",
        "    y_predicted_new = [max(i,epsilon) for i in y_predicted]\n",
        "    y_predicted_new = [min(i,1-epsilon) for i in y_predicted_new]\n",
        "    y_predicted_new = np.array(y_predicted_new)\n",
        "    return -np.mean(y_true*np.log(y_predicted_new)+(1-y_true)*np.log(1-y_predicted_new))\n"
      ],
      "metadata": {
        "id": "ld8pl1VN8Qjd"
      },
      "execution_count": 35,
      "outputs": []
    },
    {
      "cell_type": "code",
      "source": [
        "log_loss(y_true, y_pred)"
      ],
      "metadata": {
        "colab": {
          "base_uri": "https://localhost:8080/"
        },
        "id": "yk5v1o_78aRQ",
        "outputId": "a40011b8-2b47-4c0e-b344-dbaf8e08eeaa"
      },
      "execution_count": 36,
      "outputs": [
        {
          "output_type": "execute_result",
          "data": {
            "text/plain": [
              "17.2696280766844"
            ]
          },
          "metadata": {},
          "execution_count": 36
        }
      ]
    },
    {
      "cell_type": "code",
      "source": [],
      "metadata": {
        "id": "h5KH8kE68cJC"
      },
      "execution_count": null,
      "outputs": []
    }
  ]
}