{
  "nbformat": 4,
  "nbformat_minor": 0,
  "metadata": {
    "colab": {
      "provenance": []
    },
    "kernelspec": {
      "name": "python3",
      "display_name": "Python 3"
    },
    "language_info": {
      "name": "python"
    }
  },
  "cells": [
    {
      "cell_type": "markdown",
      "source": [
        "**Gradient Descent and Stochastic GD**"
      ],
      "metadata": {
        "id": "OtyTj1hBMT8_"
      }
    },
    {
      "cell_type": "code",
      "execution_count": 3,
      "metadata": {
        "id": "dWs6LtjGKHWD"
      },
      "outputs": [],
      "source": [
        "import pandas as pd\n",
        "import tensorflow as tf\n",
        "import pandas as pd\n",
        "import numpy as np\n",
        "from matplotlib import pyplot as plt"
      ]
    },
    {
      "cell_type": "code",
      "source": [
        "df = pd.read_csv(\"/content/homeprices_banglore.csv\")\n",
        "df.sample(5)"
      ],
      "metadata": {
        "colab": {
          "base_uri": "https://localhost:8080/",
          "height": 206
        },
        "id": "npcg9LdvKmnX",
        "outputId": "7b9673cf-b345-4116-ffc1-45019bec77c8"
      },
      "execution_count": 4,
      "outputs": [
        {
          "output_type": "execute_result",
          "data": {
            "text/plain": [
              "    area  bedrooms  price\n",
              "16  1180         3   48.0\n",
              "2   1440         3   62.0\n",
              "10  1800         3   82.0\n",
              "11  2785         4  140.0\n",
              "14  2250         3  101.0"
            ],
            "text/html": [
              "\n",
              "  <div id=\"df-80d9400a-8305-4001-a54e-799468631e92\" class=\"colab-df-container\">\n",
              "    <div>\n",
              "<style scoped>\n",
              "    .dataframe tbody tr th:only-of-type {\n",
              "        vertical-align: middle;\n",
              "    }\n",
              "\n",
              "    .dataframe tbody tr th {\n",
              "        vertical-align: top;\n",
              "    }\n",
              "\n",
              "    .dataframe thead th {\n",
              "        text-align: right;\n",
              "    }\n",
              "</style>\n",
              "<table border=\"1\" class=\"dataframe\">\n",
              "  <thead>\n",
              "    <tr style=\"text-align: right;\">\n",
              "      <th></th>\n",
              "      <th>area</th>\n",
              "      <th>bedrooms</th>\n",
              "      <th>price</th>\n",
              "    </tr>\n",
              "  </thead>\n",
              "  <tbody>\n",
              "    <tr>\n",
              "      <th>16</th>\n",
              "      <td>1180</td>\n",
              "      <td>3</td>\n",
              "      <td>48.0</td>\n",
              "    </tr>\n",
              "    <tr>\n",
              "      <th>2</th>\n",
              "      <td>1440</td>\n",
              "      <td>3</td>\n",
              "      <td>62.0</td>\n",
              "    </tr>\n",
              "    <tr>\n",
              "      <th>10</th>\n",
              "      <td>1800</td>\n",
              "      <td>3</td>\n",
              "      <td>82.0</td>\n",
              "    </tr>\n",
              "    <tr>\n",
              "      <th>11</th>\n",
              "      <td>2785</td>\n",
              "      <td>4</td>\n",
              "      <td>140.0</td>\n",
              "    </tr>\n",
              "    <tr>\n",
              "      <th>14</th>\n",
              "      <td>2250</td>\n",
              "      <td>3</td>\n",
              "      <td>101.0</td>\n",
              "    </tr>\n",
              "  </tbody>\n",
              "</table>\n",
              "</div>\n",
              "    <div class=\"colab-df-buttons\">\n",
              "\n",
              "  <div class=\"colab-df-container\">\n",
              "    <button class=\"colab-df-convert\" onclick=\"convertToInteractive('df-80d9400a-8305-4001-a54e-799468631e92')\"\n",
              "            title=\"Convert this dataframe to an interactive table.\"\n",
              "            style=\"display:none;\">\n",
              "\n",
              "  <svg xmlns=\"http://www.w3.org/2000/svg\" height=\"24px\" viewBox=\"0 -960 960 960\">\n",
              "    <path d=\"M120-120v-720h720v720H120Zm60-500h600v-160H180v160Zm220 220h160v-160H400v160Zm0 220h160v-160H400v160ZM180-400h160v-160H180v160Zm440 0h160v-160H620v160ZM180-180h160v-160H180v160Zm440 0h160v-160H620v160Z\"/>\n",
              "  </svg>\n",
              "    </button>\n",
              "\n",
              "  <style>\n",
              "    .colab-df-container {\n",
              "      display:flex;\n",
              "      gap: 12px;\n",
              "    }\n",
              "\n",
              "    .colab-df-convert {\n",
              "      background-color: #E8F0FE;\n",
              "      border: none;\n",
              "      border-radius: 50%;\n",
              "      cursor: pointer;\n",
              "      display: none;\n",
              "      fill: #1967D2;\n",
              "      height: 32px;\n",
              "      padding: 0 0 0 0;\n",
              "      width: 32px;\n",
              "    }\n",
              "\n",
              "    .colab-df-convert:hover {\n",
              "      background-color: #E2EBFA;\n",
              "      box-shadow: 0px 1px 2px rgba(60, 64, 67, 0.3), 0px 1px 3px 1px rgba(60, 64, 67, 0.15);\n",
              "      fill: #174EA6;\n",
              "    }\n",
              "\n",
              "    .colab-df-buttons div {\n",
              "      margin-bottom: 4px;\n",
              "    }\n",
              "\n",
              "    [theme=dark] .colab-df-convert {\n",
              "      background-color: #3B4455;\n",
              "      fill: #D2E3FC;\n",
              "    }\n",
              "\n",
              "    [theme=dark] .colab-df-convert:hover {\n",
              "      background-color: #434B5C;\n",
              "      box-shadow: 0px 1px 3px 1px rgba(0, 0, 0, 0.15);\n",
              "      filter: drop-shadow(0px 1px 2px rgba(0, 0, 0, 0.3));\n",
              "      fill: #FFFFFF;\n",
              "    }\n",
              "  </style>\n",
              "\n",
              "    <script>\n",
              "      const buttonEl =\n",
              "        document.querySelector('#df-80d9400a-8305-4001-a54e-799468631e92 button.colab-df-convert');\n",
              "      buttonEl.style.display =\n",
              "        google.colab.kernel.accessAllowed ? 'block' : 'none';\n",
              "\n",
              "      async function convertToInteractive(key) {\n",
              "        const element = document.querySelector('#df-80d9400a-8305-4001-a54e-799468631e92');\n",
              "        const dataTable =\n",
              "          await google.colab.kernel.invokeFunction('convertToInteractive',\n",
              "                                                    [key], {});\n",
              "        if (!dataTable) return;\n",
              "\n",
              "        const docLinkHtml = 'Like what you see? Visit the ' +\n",
              "          '<a target=\"_blank\" href=https://colab.research.google.com/notebooks/data_table.ipynb>data table notebook</a>'\n",
              "          + ' to learn more about interactive tables.';\n",
              "        element.innerHTML = '';\n",
              "        dataTable['output_type'] = 'display_data';\n",
              "        await google.colab.output.renderOutput(dataTable, element);\n",
              "        const docLink = document.createElement('div');\n",
              "        docLink.innerHTML = docLinkHtml;\n",
              "        element.appendChild(docLink);\n",
              "      }\n",
              "    </script>\n",
              "  </div>\n",
              "\n",
              "\n",
              "<div id=\"df-398c0a52-b448-420c-9c68-91a3d76c879f\">\n",
              "  <button class=\"colab-df-quickchart\" onclick=\"quickchart('df-398c0a52-b448-420c-9c68-91a3d76c879f')\"\n",
              "            title=\"Suggest charts.\"\n",
              "            style=\"display:none;\">\n",
              "\n",
              "<svg xmlns=\"http://www.w3.org/2000/svg\" height=\"24px\"viewBox=\"0 0 24 24\"\n",
              "     width=\"24px\">\n",
              "    <g>\n",
              "        <path d=\"M19 3H5c-1.1 0-2 .9-2 2v14c0 1.1.9 2 2 2h14c1.1 0 2-.9 2-2V5c0-1.1-.9-2-2-2zM9 17H7v-7h2v7zm4 0h-2V7h2v10zm4 0h-2v-4h2v4z\"/>\n",
              "    </g>\n",
              "</svg>\n",
              "  </button>\n",
              "\n",
              "<style>\n",
              "  .colab-df-quickchart {\n",
              "      --bg-color: #E8F0FE;\n",
              "      --fill-color: #1967D2;\n",
              "      --hover-bg-color: #E2EBFA;\n",
              "      --hover-fill-color: #174EA6;\n",
              "      --disabled-fill-color: #AAA;\n",
              "      --disabled-bg-color: #DDD;\n",
              "  }\n",
              "\n",
              "  [theme=dark] .colab-df-quickchart {\n",
              "      --bg-color: #3B4455;\n",
              "      --fill-color: #D2E3FC;\n",
              "      --hover-bg-color: #434B5C;\n",
              "      --hover-fill-color: #FFFFFF;\n",
              "      --disabled-bg-color: #3B4455;\n",
              "      --disabled-fill-color: #666;\n",
              "  }\n",
              "\n",
              "  .colab-df-quickchart {\n",
              "    background-color: var(--bg-color);\n",
              "    border: none;\n",
              "    border-radius: 50%;\n",
              "    cursor: pointer;\n",
              "    display: none;\n",
              "    fill: var(--fill-color);\n",
              "    height: 32px;\n",
              "    padding: 0;\n",
              "    width: 32px;\n",
              "  }\n",
              "\n",
              "  .colab-df-quickchart:hover {\n",
              "    background-color: var(--hover-bg-color);\n",
              "    box-shadow: 0 1px 2px rgba(60, 64, 67, 0.3), 0 1px 3px 1px rgba(60, 64, 67, 0.15);\n",
              "    fill: var(--button-hover-fill-color);\n",
              "  }\n",
              "\n",
              "  .colab-df-quickchart-complete:disabled,\n",
              "  .colab-df-quickchart-complete:disabled:hover {\n",
              "    background-color: var(--disabled-bg-color);\n",
              "    fill: var(--disabled-fill-color);\n",
              "    box-shadow: none;\n",
              "  }\n",
              "\n",
              "  .colab-df-spinner {\n",
              "    border: 2px solid var(--fill-color);\n",
              "    border-color: transparent;\n",
              "    border-bottom-color: var(--fill-color);\n",
              "    animation:\n",
              "      spin 1s steps(1) infinite;\n",
              "  }\n",
              "\n",
              "  @keyframes spin {\n",
              "    0% {\n",
              "      border-color: transparent;\n",
              "      border-bottom-color: var(--fill-color);\n",
              "      border-left-color: var(--fill-color);\n",
              "    }\n",
              "    20% {\n",
              "      border-color: transparent;\n",
              "      border-left-color: var(--fill-color);\n",
              "      border-top-color: var(--fill-color);\n",
              "    }\n",
              "    30% {\n",
              "      border-color: transparent;\n",
              "      border-left-color: var(--fill-color);\n",
              "      border-top-color: var(--fill-color);\n",
              "      border-right-color: var(--fill-color);\n",
              "    }\n",
              "    40% {\n",
              "      border-color: transparent;\n",
              "      border-right-color: var(--fill-color);\n",
              "      border-top-color: var(--fill-color);\n",
              "    }\n",
              "    60% {\n",
              "      border-color: transparent;\n",
              "      border-right-color: var(--fill-color);\n",
              "    }\n",
              "    80% {\n",
              "      border-color: transparent;\n",
              "      border-right-color: var(--fill-color);\n",
              "      border-bottom-color: var(--fill-color);\n",
              "    }\n",
              "    90% {\n",
              "      border-color: transparent;\n",
              "      border-bottom-color: var(--fill-color);\n",
              "    }\n",
              "  }\n",
              "</style>\n",
              "\n",
              "  <script>\n",
              "    async function quickchart(key) {\n",
              "      const quickchartButtonEl =\n",
              "        document.querySelector('#' + key + ' button');\n",
              "      quickchartButtonEl.disabled = true;  // To prevent multiple clicks.\n",
              "      quickchartButtonEl.classList.add('colab-df-spinner');\n",
              "      try {\n",
              "        const charts = await google.colab.kernel.invokeFunction(\n",
              "            'suggestCharts', [key], {});\n",
              "      } catch (error) {\n",
              "        console.error('Error during call to suggestCharts:', error);\n",
              "      }\n",
              "      quickchartButtonEl.classList.remove('colab-df-spinner');\n",
              "      quickchartButtonEl.classList.add('colab-df-quickchart-complete');\n",
              "    }\n",
              "    (() => {\n",
              "      let quickchartButtonEl =\n",
              "        document.querySelector('#df-398c0a52-b448-420c-9c68-91a3d76c879f button');\n",
              "      quickchartButtonEl.style.display =\n",
              "        google.colab.kernel.accessAllowed ? 'block' : 'none';\n",
              "    })();\n",
              "  </script>\n",
              "</div>\n",
              "    </div>\n",
              "  </div>\n"
            ]
          },
          "metadata": {},
          "execution_count": 4
        }
      ]
    },
    {
      "cell_type": "markdown",
      "source": [
        "Data scaling"
      ],
      "metadata": {
        "id": "RXfuiOtKMoRl"
      }
    },
    {
      "cell_type": "code",
      "source": [
        "# x = area and bedrooms\n",
        "# y = price\n",
        "\n",
        "from sklearn import preprocessing\n",
        "\n",
        "sx = preprocessing.MinMaxScaler()\n",
        "sy = preprocessing.MinMaxScaler()\n",
        "\n",
        "scaled_X = sx.fit_transform(df.drop('price',axis='columns')) #drop price column and scale area and bedrooms\n",
        "scaled_y = sy.fit_transform(df['price'].values.reshape(df.shape[0],1)) #scale price column"
      ],
      "metadata": {
        "id": "JfVF222ZKwPP"
      },
      "execution_count": 5,
      "outputs": []
    },
    {
      "cell_type": "code",
      "source": [
        "scaled_X"
      ],
      "metadata": {
        "colab": {
          "base_uri": "https://localhost:8080/"
        },
        "id": "xooap77hK5BZ",
        "outputId": "143f45f3-2ac8-4c3e-feee-d6b093af87bc"
      },
      "execution_count": 6,
      "outputs": [
        {
          "output_type": "execute_result",
          "data": {
            "text/plain": [
              "array([[0.08827586, 0.25      ],\n",
              "       [0.62068966, 0.75      ],\n",
              "       [0.22068966, 0.5       ],\n",
              "       [0.24862069, 0.5       ],\n",
              "       [0.13793103, 0.25      ],\n",
              "       [0.12758621, 0.25      ],\n",
              "       [0.6662069 , 0.75      ],\n",
              "       [0.86206897, 0.75      ],\n",
              "       [0.17586207, 0.5       ],\n",
              "       [1.        , 1.        ],\n",
              "       [0.34482759, 0.5       ],\n",
              "       [0.68448276, 0.75      ],\n",
              "       [0.06896552, 0.25      ],\n",
              "       [0.10344828, 0.25      ],\n",
              "       [0.5       , 0.5       ],\n",
              "       [0.12931034, 0.25      ],\n",
              "       [0.13103448, 0.5       ],\n",
              "       [0.25517241, 0.5       ],\n",
              "       [0.67931034, 0.5       ],\n",
              "       [0.        , 0.        ]])"
            ]
          },
          "metadata": {},
          "execution_count": 6
        }
      ]
    },
    {
      "cell_type": "code",
      "source": [
        "scaled_y"
      ],
      "metadata": {
        "colab": {
          "base_uri": "https://localhost:8080/"
        },
        "id": "5R-TBE1-LaBB",
        "outputId": "63c672eb-dc44-4764-a057-bf7599ae88a8"
      },
      "execution_count": 7,
      "outputs": [
        {
          "output_type": "execute_result",
          "data": {
            "text/plain": [
              "array([[0.05237037],\n",
              "       [0.65185185],\n",
              "       [0.22222222],\n",
              "       [0.31851852],\n",
              "       [0.14074074],\n",
              "       [0.04444444],\n",
              "       [0.76296296],\n",
              "       [0.91111111],\n",
              "       [0.13333333],\n",
              "       [1.        ],\n",
              "       [0.37037037],\n",
              "       [0.8       ],\n",
              "       [0.04444444],\n",
              "       [0.05925926],\n",
              "       [0.51111111],\n",
              "       [0.07407407],\n",
              "       [0.11851852],\n",
              "       [0.20740741],\n",
              "       [0.51851852],\n",
              "       [0.        ]])"
            ]
          },
          "metadata": {},
          "execution_count": 7
        }
      ]
    },
    {
      "cell_type": "code",
      "source": [
        "#after scaling, it gets converted to 2d numpy array, we have to turn it back to 1d numpy array\n",
        "scaled_y.reshape(20,)"
      ],
      "metadata": {
        "colab": {
          "base_uri": "https://localhost:8080/"
        },
        "id": "vrLTuxRTLcln",
        "outputId": "388c4552-a6f9-452a-faaa-28b069e3c15e"
      },
      "execution_count": 8,
      "outputs": [
        {
          "output_type": "execute_result",
          "data": {
            "text/plain": [
              "array([0.05237037, 0.65185185, 0.22222222, 0.31851852, 0.14074074,\n",
              "       0.04444444, 0.76296296, 0.91111111, 0.13333333, 1.        ,\n",
              "       0.37037037, 0.8       , 0.04444444, 0.05925926, 0.51111111,\n",
              "       0.07407407, 0.11851852, 0.20740741, 0.51851852, 0.        ])"
            ]
          },
          "metadata": {},
          "execution_count": 8
        }
      ]
    },
    {
      "cell_type": "markdown",
      "source": [
        "### **1. Apply batch gradient descent** <br>\n",
        "works for all samples of training data"
      ],
      "metadata": {
        "id": "zxzkRdjNMqyQ"
      }
    },
    {
      "cell_type": "markdown",
      "source": [
        "price = w1 * area + w2 * bedrooms + bias"
      ],
      "metadata": {
        "id": "mNmpcdWVM1zZ"
      }
    },
    {
      "cell_type": "code",
      "source": [
        "def batch_gradient_descent(X, y_true, epochs, learning_rate = 0.01):\n",
        "\n",
        "    number_of_features = X.shape[1]\n",
        "    # numpy array with 1 row and columns equal to number of features.\n",
        "    # here, our case number_of_features = 2 (area, bedroom)\n",
        "\n",
        "    #initialise weights=1 and bias=0\n",
        "    w = np.ones(shape=(number_of_features))\n",
        "    b = 0\n",
        "    total_samples = X.shape[0] # number of rows in X\n",
        "\n",
        "    cost_list = []  #stores MSE errors\n",
        "    epoch_list = [] #stores epoch values\n",
        "\n",
        "    for i in range(epochs):\n",
        "        #sum(WiXi) + bias\n",
        "        y_predicted = np.dot(w, X.T) + b\n",
        "\n",
        "        #applying derivatives on weight and bias\n",
        "        w_grad = -(2/total_samples)*(X.T.dot(y_true-y_predicted))\n",
        "        b_grad = -(2/total_samples)*np.sum(y_true-y_predicted)\n",
        "\n",
        "        #weight and bias updation\n",
        "        w = w - learning_rate * w_grad\n",
        "        b = b - learning_rate * b_grad\n",
        "\n",
        "        #computing MSE\n",
        "        cost = np.mean(np.square(y_true-y_predicted))\n",
        "\n",
        "        #add to list at every 10th epoch\n",
        "        if i%10==0:\n",
        "            cost_list.append(cost)\n",
        "            epoch_list.append(i)\n",
        "\n",
        "    return w, b, cost, cost_list, epoch_list\n",
        "\n",
        "w, b, cost, cost_list, epoch_list = batch_gradient_descent(scaled_X,scaled_y.reshape(scaled_y.shape[0],),500)\n",
        "w, b, cost"
      ],
      "metadata": {
        "id": "UXOQpJaKMIt3",
        "colab": {
          "base_uri": "https://localhost:8080/"
        },
        "outputId": "fec087b6-10c9-437b-f6d5-9896ec116ab5"
      },
      "execution_count": 9,
      "outputs": [
        {
          "output_type": "execute_result",
          "data": {
            "text/plain": [
              "(array([0.70712464, 0.67456527]), -0.23034857438407427, 0.0068641890429808105)"
            ]
          },
          "metadata": {},
          "execution_count": 9
        }
      ]
    },
    {
      "cell_type": "code",
      "source": [
        "w"
      ],
      "metadata": {
        "colab": {
          "base_uri": "https://localhost:8080/"
        },
        "id": "OR58ZBdAxRbi",
        "outputId": "b23468ce-bfd6-43c1-d717-04bb8a28d23a"
      },
      "execution_count": 10,
      "outputs": [
        {
          "output_type": "execute_result",
          "data": {
            "text/plain": [
              "array([0.70712464, 0.67456527])"
            ]
          },
          "metadata": {},
          "execution_count": 10
        }
      ]
    },
    {
      "cell_type": "code",
      "source": [
        "b"
      ],
      "metadata": {
        "colab": {
          "base_uri": "https://localhost:8080/"
        },
        "id": "YC5KkcRixT87",
        "outputId": "3d4e9c92-c127-47b8-ae53-4dc7757beeba"
      },
      "execution_count": 11,
      "outputs": [
        {
          "output_type": "execute_result",
          "data": {
            "text/plain": [
              "-0.23034857438407427"
            ]
          },
          "metadata": {},
          "execution_count": 11
        }
      ]
    },
    {
      "cell_type": "markdown",
      "source": [
        "w1 = 0.707, w2 = 0.674, bias = -0.230, MSE loss = 0.006"
      ],
      "metadata": {
        "id": "nMh04Kf6xYME"
      }
    },
    {
      "cell_type": "code",
      "source": [
        "#plot graph\n",
        "plt.xlabel(\"epoch\")\n",
        "plt.ylabel(\"cost\")\n",
        "plt.plot(epoch_list,cost_list)"
      ],
      "metadata": {
        "colab": {
          "base_uri": "https://localhost:8080/",
          "height": 466
        },
        "id": "3N6NSm56xU5f",
        "outputId": "44d55b95-2b90-4f98-9500-7185d9a5de48"
      },
      "execution_count": 13,
      "outputs": [
        {
          "output_type": "execute_result",
          "data": {
            "text/plain": [
              "[<matplotlib.lines.Line2D at 0x7ac709ae66e0>]"
            ]
          },
          "metadata": {},
          "execution_count": 13
        },
        {
          "output_type": "display_data",
          "data": {
            "text/plain": [
              "<Figure size 640x480 with 1 Axes>"
            ],
            "image/png": "[encoded data removed]"
          },
          "metadata": {}
        }
      ]
    },
    {
      "cell_type": "code",
      "source": [
        "def predict(area,bedrooms,w,b):\n",
        "      # here w1 = w[0] , w2 = w[1], w3 = w[2] and bias is b\n",
        "      # equation for price is w1*area + w2*bedrooms + w3*age + bias\n",
        "      # scaled_X[0] is area\n",
        "      # scaled_X[1] is bedrooms\n",
        "      # scaled_X[2] is age\n",
        "      # scaling the values to the range of 0-1\n",
        "    scaled_X = sx.transform([[area, bedrooms]])[0]\n",
        "    scaled_price = w[0] * scaled_X[0] + w[1] * scaled_X[1] + b\n",
        "    # once we get price prediction we need to rescale it back to original value\n",
        "    # also since it returns 2D array, to get single value we need to do value[0][0]\n",
        "    return sy.inverse_transform([[scaled_price]])[0][0]\n",
        "\n",
        "predict(2600,4,w,b)"
      ],
      "metadata": {
        "colab": {
          "base_uri": "https://localhost:8080/"
        },
        "id": "SYo7EF_xxpe8",
        "outputId": "f76845c0-eb6e-4c17-f1a8-98b244d9efb0"
      },
      "execution_count": 14,
      "outputs": [
        {
          "output_type": "stream",
          "name": "stderr",
          "text": [
            "/usr/local/lib/python3.10/dist-packages/sklearn/base.py:439: UserWarning: X does not have valid feature names, but MinMaxScaler was fitted with feature names\n",
            "  warnings.warn(\n"
          ]
        },
        {
          "output_type": "execute_result",
          "data": {
            "text/plain": [
              "128.45484403267596"
            ]
          },
          "metadata": {},
          "execution_count": 14
        }
      ]
    },
    {
      "cell_type": "code",
      "source": [
        "predict(1500,3,w,b)\n"
      ],
      "metadata": {
        "colab": {
          "base_uri": "https://localhost:8080/"
        },
        "id": "nafY6uAQyF5C",
        "outputId": "5727f79f-e9db-4292-9915-11354497b8e6"
      },
      "execution_count": 15,
      "outputs": [
        {
          "output_type": "stream",
          "name": "stderr",
          "text": [
            "/usr/local/lib/python3.10/dist-packages/sklearn/base.py:439: UserWarning: X does not have valid feature names, but MinMaxScaler was fitted with feature names\n",
            "  warnings.warn(\n"
          ]
        },
        {
          "output_type": "execute_result",
          "data": {
            "text/plain": [
              "69.47860785714694"
            ]
          },
          "metadata": {},
          "execution_count": 15
        }
      ]
    },
    {
      "cell_type": "markdown",
      "source": [
        "## **2. stochastic GD**<br>\n",
        "works for random samples of training data"
      ],
      "metadata": {
        "id": "PPzpJvG-yPw0"
      }
    },
    {
      "cell_type": "code",
      "source": [
        "# we will use random libary to pick random training sample.\n",
        "import random\n",
        "random.randint(0,6) # randit gives random number between two numbers specified in the argument"
      ],
      "metadata": {
        "colab": {
          "base_uri": "https://localhost:8080/"
        },
        "id": "KeOvhvILyKiN",
        "outputId": "612f7abf-710a-4cd3-fc02-6ec618fc0aaa"
      },
      "execution_count": 16,
      "outputs": [
        {
          "output_type": "execute_result",
          "data": {
            "text/plain": [
              "6"
            ]
          },
          "metadata": {},
          "execution_count": 16
        }
      ]
    },
    {
      "cell_type": "code",
      "source": [
        "def stochastic_gradient_descent(X, y_true, epochs, learning_rate = 0.01):\n",
        "    #everything remains the same, only sample changes. all samples --> random samples\n",
        "\n",
        "    number_of_features = X.shape[1]\n",
        "    # numpy array with 1 row and columns equal to number of features. In\n",
        "    # our case number_of_features = 3 (area, bedroom and age)\n",
        "    w = np.ones(shape=(number_of_features))\n",
        "    b = 0\n",
        "    total_samples = X.shape[0]\n",
        "\n",
        "    cost_list = []\n",
        "    epoch_list = []\n",
        "\n",
        "    for i in range(epochs):\n",
        "        random_index = random.randint(0,total_samples-1) # random index from total samples\n",
        "        sample_x = X[random_index]\n",
        "        sample_y = y_true[random_index]\n",
        "\n",
        "        y_predicted = np.dot(w, sample_x.T) + b\n",
        "\n",
        "        w_grad = -(2/total_samples)*(sample_x.T.dot(sample_y-y_predicted))\n",
        "        b_grad = -(2/total_samples)*(sample_y-y_predicted)\n",
        "\n",
        "        w = w - learning_rate * w_grad\n",
        "        b = b - learning_rate * b_grad\n",
        "\n",
        "        cost = np.square(sample_y-y_predicted)\n",
        "\n",
        "        # at every 100th iteration record the cost and epoch value\n",
        "        if i%100==0:\n",
        "            cost_list.append(cost)\n",
        "            epoch_list.append(i)\n",
        "\n",
        "    return w, b, cost, cost_list, epoch_list\n",
        "\n",
        "w_sgd, b_sgd, cost_sgd, cost_list_sgd, epoch_list_sgd = stochastic_gradient_descent(scaled_X,scaled_y.reshape(scaled_y.shape[0],),10000)\n",
        "w_sgd, b_sgd, cost_sgd"
      ],
      "metadata": {
        "colab": {
          "base_uri": "https://localhost:8080/"
        },
        "id": "7TwNTF5uy9_Z",
        "outputId": "cc253ed4-2975-404e-d2ba-8701219e59a4"
      },
      "execution_count": 18,
      "outputs": [
        {
          "output_type": "execute_result",
          "data": {
            "text/plain": [
              "(array([0.70422643, 0.67538186]), -0.2302772787941431, 0.00030900740921939484)"
            ]
          },
          "metadata": {},
          "execution_count": 18
        }
      ]
    },
    {
      "cell_type": "markdown",
      "source": [
        "w1 = 0.704, w2 = 0.675, bias = -0.230, MSE loss = 0.0003"
      ],
      "metadata": {
        "id": "y_PBzqZE_x0y"
      }
    },
    {
      "cell_type": "code",
      "source": [
        "#plot graph\n",
        "plt.xlabel(\"epoch\")\n",
        "plt.ylabel(\"cost\")\n",
        "plt.plot(epoch_list_sgd,cost_list_sgd)"
      ],
      "metadata": {
        "colab": {
          "base_uri": "https://localhost:8080/",
          "height": 466
        },
        "id": "6FfIEfUa67gJ",
        "outputId": "3f329e0f-3553-4ec4-a6b3-579da0763df2"
      },
      "execution_count": 20,
      "outputs": [
        {
          "output_type": "execute_result",
          "data": {
            "text/plain": [
              "[<matplotlib.lines.Line2D at 0x7ac7078e4b80>]"
            ]
          },
          "metadata": {},
          "execution_count": 20
        },
        {
          "output_type": "display_data",
          "data": {
            "text/plain": [
              "<Figure size 640x480 with 1 Axes>"
            ],
            "image/png": "[encoded data removed]"
          },
          "metadata": {}
        }
      ]
    },
    {
      "cell_type": "code",
      "source": [
        "predict(2600,4,w_sgd,b_sgd)"
      ],
      "metadata": {
        "colab": {
          "base_uri": "https://localhost:8080/"
        },
        "id": "sdPznLgd_rDy",
        "outputId": "91981ec8-fd95-471f-e2b9-ff193cb75aaf"
      },
      "execution_count": 24,
      "outputs": [
        {
          "output_type": "stream",
          "name": "stderr",
          "text": [
            "/usr/local/lib/python3.10/dist-packages/sklearn/base.py:439: UserWarning: X does not have valid feature names, but MinMaxScaler was fitted with feature names\n",
            "  warnings.warn(\n"
          ]
        },
        {
          "output_type": "execute_result",
          "data": {
            "text/plain": [
              "128.3042993468041"
            ]
          },
          "metadata": {},
          "execution_count": 24
        }
      ]
    },
    {
      "cell_type": "code",
      "source": [
        "predict(1500,3,w_sgd,b_sgd)"
      ],
      "metadata": {
        "colab": {
          "base_uri": "https://localhost:8080/"
        },
        "id": "Zdk2Ua-6_-Do",
        "outputId": "9dd2369d-1fd6-43cd-ffcd-a4976d3bf64d"
      },
      "execution_count": 23,
      "outputs": [
        {
          "output_type": "stream",
          "name": "stderr",
          "text": [
            "/usr/local/lib/python3.10/dist-packages/sklearn/base.py:439: UserWarning: X does not have valid feature names, but MinMaxScaler was fitted with feature names\n",
            "  warnings.warn(\n"
          ]
        },
        {
          "output_type": "execute_result",
          "data": {
            "text/plain": [
              "69.44891135734473"
            ]
          },
          "metadata": {},
          "execution_count": 23
        }
      ]
    },
    {
      "cell_type": "markdown",
      "source": [
        "## **3. mini batch GD**<br>\n",
        "works for few samples of training data<br>\n",
        "we use a batch of m samples where 0 < m < n (where n is total number of training samples)"
      ],
      "metadata": {
        "id": "0mXTzH63Atve"
      }
    },
    {
      "cell_type": "code",
      "source": [
        "#generates an array of 20 numbers with random indexes\n",
        "\n",
        "np.random.permutation(20)"
      ],
      "metadata": {
        "colab": {
          "base_uri": "https://localhost:8080/"
        },
        "id": "19mV7nb1AEPS",
        "outputId": "d9baaf64-bbcf-44ee-9fd8-ac2cf2655e5a"
      },
      "execution_count": 25,
      "outputs": [
        {
          "output_type": "execute_result",
          "data": {
            "text/plain": [
              "array([11,  5,  3, 16,  0, 19, 17,  4,  2, 13,  7, 15, 18,  8, 14, 12,  1,\n",
              "        6, 10,  9])"
            ]
          },
          "metadata": {},
          "execution_count": 25
        }
      ]
    },
    {
      "cell_type": "code",
      "source": [
        "def mini_batch_gradient_descent(X, y_true, epochs = 100, batch_size = 5, learning_rate = 0.01):\n",
        "\n",
        "    number_of_features = X.shape[1]\n",
        "    # numpy array with 1 row and columns equal to number of features. In\n",
        "    # our case number_of_features = 3 (area, bedroom and age)\n",
        "    w = np.ones(shape=(number_of_features))\n",
        "    b = 0\n",
        "    total_samples = X.shape[0] # number of rows in X\n",
        "\n",
        "    if batch_size > total_samples: # In this case mini batch becomes same as batch gradient descent\n",
        "        batch_size = total_samples\n",
        "\n",
        "    cost_list_mbgd = []\n",
        "    epoch_list_mbgd = []\n",
        "\n",
        "    num_batches = int(total_samples/batch_size)\n",
        "\n",
        "    for i in range(epochs):\n",
        "        random_indices = np.random.permutation(total_samples)\n",
        "        X_tmp = X[random_indices]\n",
        "        y_tmp = y_true[random_indices]\n",
        "\n",
        "        for j in range(0,total_samples,batch_size):\n",
        "            Xj = X_tmp[j:j+batch_size]\n",
        "            yj = y_tmp[j:j+batch_size]\n",
        "            y_predicted = np.dot(w, Xj.T) + b\n",
        "\n",
        "            w_grad = -(2/len(Xj))*(Xj.T.dot(yj-y_predicted))\n",
        "            b_grad = -(2/len(Xj))*np.sum(yj-y_predicted)\n",
        "\n",
        "            w = w - learning_rate * w_grad\n",
        "            b = b - learning_rate * b_grad\n",
        "\n",
        "            cost = np.mean(np.square(yj-y_predicted)) # MSE (Mean Squared Error)\n",
        "\n",
        "        if i%10==0:\n",
        "            cost_list_mbgd.append(cost)\n",
        "            epoch_list_mbgd.append(i)\n",
        "\n",
        "    return w, b, cost, cost_list_mbgd, epoch_list_mbgd\n",
        "\n",
        "w, b, cost, cost_list_mbgd, epoch_list_mbgd = mini_batch_gradient_descent(\n",
        "    scaled_X,\n",
        "    scaled_y.reshape(scaled_y.shape[0],),\n",
        "    epochs = 120,\n",
        "    batch_size = 5\n",
        ")\n",
        "w, b, cost"
      ],
      "metadata": {
        "colab": {
          "base_uri": "https://localhost:8080/"
        },
        "id": "CuARgD66BI7s",
        "outputId": "2baf5f01-9d5f-4aed-d686-b715ad1f30b0"
      },
      "execution_count": 26,
      "outputs": [
        {
          "output_type": "execute_result",
          "data": {
            "text/plain": [
              "(array([0.71015443, 0.67816942]), -0.233189592738944, 0.0017379727822285584)"
            ]
          },
          "metadata": {},
          "execution_count": 26
        }
      ]
    },
    {
      "cell_type": "markdown",
      "source": [
        "w1=0.710, w2=0.678, b=-0.233, loss=0.001"
      ],
      "metadata": {
        "id": "x5EnNY9PBll9"
      }
    },
    {
      "cell_type": "code",
      "source": [
        "plt.xlabel(\"epoch\")\n",
        "plt.ylabel(\"cost\")\n",
        "plt.plot(epoch_list_mbgd, cost_list_mbgd)"
      ],
      "metadata": {
        "colab": {
          "base_uri": "https://localhost:8080/",
          "height": 466
        },
        "id": "xdutoH7QBicg",
        "outputId": "7b300f7c-e82f-47ae-9915-b63efa4e7698"
      },
      "execution_count": 27,
      "outputs": [
        {
          "output_type": "execute_result",
          "data": {
            "text/plain": [
              "[<matplotlib.lines.Line2D at 0x7ac707766e30>]"
            ]
          },
          "metadata": {},
          "execution_count": 27
        },
        {
          "output_type": "display_data",
          "data": {
            "text/plain": [
              "<Figure size 640x480 with 1 Axes>"
            ],
            "image/png": "[encoded data removed]"
          },
          "metadata": {}
        }
      ]
    },
    {
      "cell_type": "code",
      "source": [
        "predict(2600,4,w,b)"
      ],
      "metadata": {
        "colab": {
          "base_uri": "https://localhost:8080/"
        },
        "id": "o3GXV4wqBwpt",
        "outputId": "29ac70db-dc82-4a07-f31e-e1b502e3ddfe"
      },
      "execution_count": 28,
      "outputs": [
        {
          "output_type": "stream",
          "name": "stderr",
          "text": [
            "/usr/local/lib/python3.10/dist-packages/sklearn/base.py:439: UserWarning: X does not have valid feature names, but MinMaxScaler was fitted with feature names\n",
            "  warnings.warn(\n"
          ]
        },
        {
          "output_type": "execute_result",
          "data": {
            "text/plain": [
              "128.6901024035129"
            ]
          },
          "metadata": {},
          "execution_count": 28
        }
      ]
    },
    {
      "cell_type": "code",
      "source": [
        "predict(1500,3,w,b)"
      ],
      "metadata": {
        "colab": {
          "base_uri": "https://localhost:8080/"
        },
        "id": "uWak9PzHB6G6",
        "outputId": "4564c968-489d-4b28-fff2-2fd5fec9bcf9"
      },
      "execution_count": 29,
      "outputs": [
        {
          "output_type": "stream",
          "name": "stderr",
          "text": [
            "/usr/local/lib/python3.10/dist-packages/sklearn/base.py:439: UserWarning: X does not have valid feature names, but MinMaxScaler was fitted with feature names\n",
            "  warnings.warn(\n"
          ]
        },
        {
          "output_type": "execute_result",
          "data": {
            "text/plain": [
              "69.43708011849982"
            ]
          },
          "metadata": {},
          "execution_count": 29
        }
      ]
    },
    {
      "cell_type": "code",
      "source": [],
      "metadata": {
        "id": "pWoGWdsnB_OC"
      },
      "execution_count": null,
      "outputs": []
    }
  ]
}